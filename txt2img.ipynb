{
 "cells": [
  {
   "cell_type": "code",
   "execution_count": null,
   "metadata": {},
   "outputs": [],
   "source": [
    "from scripts.txt2img_nb import load_model, main"
   ]
  },
  {
   "cell_type": "code",
   "execution_count": null,
   "metadata": {},
   "outputs": [],
   "source": [
    "model = load_model()"
   ]
  },
  {
   "cell_type": "code",
   "execution_count": null,
   "metadata": {},
   "outputs": [],
   "source": [
    "prompt = \"pyramid\"\n",
    "prompt_correction =[f\"egypt::-{i/100}\", f\"japan::{i/100}\"]\n",
    "seed = 42\n",
    "scale = 7.5\n",
    "plms=True\n",
    "\n",
    "images = main(model, prompt, seed=seed, scale=scale, plms=plms, prompt_correction=prompt_correction)\n",
    "images[0]"
   ]
  }
 ],
 "metadata": {
  "kernelspec": {
   "display_name": "Python 3.8.5 ('ldm')",
   "language": "python",
   "name": "python3"
  },
  "language_info": {
   "codemirror_mode": {
    "name": "ipython",
    "version": 3
   },
   "file_extension": ".py",
   "mimetype": "text/x-python",
   "name": "python",
   "nbconvert_exporter": "python",
   "pygments_lexer": "ipython3",
   "version": "3.8.13"
  },
  "orig_nbformat": 4,
  "vscode": {
   "interpreter": {
    "hash": "9b1f5017147893acf565d1e383c3b688375657195e3a8ca3aea8d088cd976bc0"
   }
  }
 },
 "nbformat": 4,
 "nbformat_minor": 2
}
