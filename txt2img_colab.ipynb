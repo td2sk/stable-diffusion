{
  "nbformat": 4,
  "nbformat_minor": 0,
  "metadata": {
    "colab": {
      "provenance": [],
      "collapsed_sections": []
    },
    "kernelspec": {
      "name": "python3",
      "display_name": "Python 3"
    },
    "language_info": {
      "name": "python"
    },
    "gpuClass": "standard",
    "accelerator": "GPU"
  },
  "cells": [
    {
      "cell_type": "markdown",
      "source": [
        "# Stable Diffusion txt2img with prompt_correction\n",
        "\n",
        "## 機能\n",
        "\n",
        "* Stable DIffusion の txt2img による画像生成\n",
        "  * diffusers 依存なし\n",
        "* [prompt_correction patch](https://gist.github.com/td2sk/33044aabd8cc080137bceb3f87f650ef) 適用済み\n",
        "\n",
        "## 使い方\n",
        "\n",
        "1. ランタイムを GPU に設定\n",
        "1. モデルファイル(sd-v1-4.ckpt)を Google Drive に配置\n",
        "1. 設定 の項目にあるパスをモデルファイル配置先\n",
        "1. 1 ~ 4 を実行して環境構築する\n",
        "1. 5 を実行して画像を生成する\n",
        "\n",
        "パラメータを変更して画像を再作成する場合は 5 のみ再実行すれば良い\n",
        "\n",
        "## 更新履歴\n",
        "\n",
        "* 2022/09/07 公開"
      ],
      "metadata": {
        "id": "-DSmWgbbg6ax"
      }
    },
    {
      "cell_type": "code",
      "source": [
        "#@markdown # 1. 設定\n",
        "\n",
        "import os\n",
        "\n",
        "#@markdown Google Drive マウント先\n",
        "MOUNT_PATH = \"/content/googledrive\" #@param {type: \"string\"}\n",
        "\n",
        "#@markdown モデルファイル \n",
        "MODEL_PATH = \"/content/googledrive/MyDrive/stable-diffusion/models/sd-v1-4.ckpt\" #@param {type: \"string\"}\n",
        "\n",
        "# 各種ライブラリの配置パス\n",
        "SD_PATH = \"/content/\"\n",
        "\n",
        "# Stable Diffusion model config path\n",
        "MODEL_CONFIG_PATH = os.path.join(SD_PATH, \"stable-diffusion\", \"configs\", \"stable-diffusion\", \"v1-inference.yaml\")"
      ],
      "metadata": {
        "id": "blGI2rnzIGu3",
        "cellView": "form"
      },
      "execution_count": 1,
      "outputs": []
    },
    {
      "cell_type": "code",
      "execution_count": null,
      "metadata": {
        "id": "YSEDEigX055T",
        "cellView": "form"
      },
      "outputs": [],
      "source": [
        "#@markdown # 2. Google Drive をマウント\n",
        "from google.colab import drive\n",
        "drive.mount(MOUNT_PATH)"
      ]
    },
    {
      "cell_type": "code",
      "source": [
        "#@markdown # 3. ライブラリの取得\n",
        "\n",
        "# ソースコード取得\n",
        "%cd $SD_PATH\n",
        "!git clone https://github.com/td2sk/stable-diffusion\n",
        "!git clone https://github.com/CompVis/taming-transformers.git\n",
        "!git clone https://github.com/openai/CLIP.git\n",
        "\n",
        "import sys\n",
        "sys.path.append('./stable-diffusion')\n",
        "sys.path.append('./taming-transformers')\n",
        "sys.path.append('./CLIP')\n",
        "\n",
        "# pipライブラリ取得\n",
        "!pip install albumentations==0.4.3 opencv-python==4.1.2.30 pudb==2019.2 imageio==2.9.0 imageio-ffmpeg==0.4.2 pytorch-lightning==1.4.2 omegaconf==2.1.1 test-tube>=0.7.5 streamlit>=0.73.1 einops==0.3.0 torch-fidelity==0.3.0 transformers==4.19.2 torchmetrics==0.6.0 kornia==0.6 ftfy\n",
        "\n",
        "# 不要なライブラリを削除\n",
        "!pip uninstall -y torchtext"
      ],
      "metadata": {
        "id": "EC0kHvalI0nd",
        "cellView": "form"
      },
      "execution_count": null,
      "outputs": []
    },
    {
      "cell_type": "code",
      "source": [
        "#@markdown # 4. モデルの読み込み\n",
        "#@markdown 読み込んだモデルを model に代入する\n",
        "#@markdown * Colab ランタイム起動時に1度実行すればよい\n",
        "from scripts.txt2img_nb import load_model, main\n",
        "model = load_model(config=MODEL_CONFIG_PATH, ckpt=MODEL_PATH)"
      ],
      "metadata": {
        "id": "4Zka5xwhJj6O",
        "cellView": "form"
      },
      "execution_count": null,
      "outputs": []
    },
    {
      "cell_type": "code",
      "source": [
        "#@markdown # 5. 実行\n",
        "\n",
        "#@markdown ## 利用方法\n",
        "#@markdown \n",
        "#@markdown main メソッドに model と prompt を渡して画像を生成する。\n",
        "#@markdown \n",
        "#@markdown main メソッドは Stable Diffusion の txt2img.py のコマンドラインオプションと同名の引数をサポートしている。\n",
        "#@markdown \n",
        "#@markdown ```\n",
        "#@markdown model                                  : 手順4 (モデルの読み込み) で設定した変数を指定\n",
        "#@markdown prompt (str)                           : txt2img のプロンプト\n",
        "#@markdown ddim_steps (int, optional)             : default=50\n",
        "#@markdown fixed_code (boolean, optional)         : default=False\n",
        "#@markdown plms (boolean, optional)               : default=False\n",
        "#@markdown ddim_eta (float, optional)             : default=0.0\n",
        "#@markdown n_iter (int, optional)                 : default=1\n",
        "#@markdown H (int, optional)                      : default=512,\n",
        "#@markdown W (int, optional)                      : default=512\n",
        "#@markdown C (int, optional)                      : default=4\n",
        "#@markdown f (int, optional)                      : default=8\n",
        "#@markdown n_samples (int, optional)              : deafult=1\n",
        "#@markdown n_rows (int, optional)                 : default=0\n",
        "#@markdown scale (float, optional)                : default=7.5\n",
        "#@markdown seed (int, optional)                   : default=42\n",
        "#@markdown precision (str, optional)              : default=\"autocast\"\n",
        "#@markdown prompt_correction (List[str], optional): default=[]\n",
        "#@markdown ```\n",
        "\n",
        "# パラメーターの設定例\n",
        "prompt = \"pyramid\"\n",
        "prompt_correction =[\"egypt::-0.20\", \"japan::0.20\"]\n",
        "seed = 751\n",
        "scale = 7.5\n",
        "plms=True\n",
        "\n",
        "# 重みを変えながら複数画像を生成する場合は 以下のように f-string を使うとよい\n",
        "# for weight in range(20):\n",
        "#   prompt_correction = [f\"egypt::{-i/100}\", f\"japan::{i/100}\"]\n",
        "#   (その他コード)\n",
        "\n",
        "# main メソッドで画像を生成する\n",
        "images = main(model, prompt, seed=seed, scale=scale, plms=plms, prompt_correction=prompt_correction)\n",
        "images[0]"
      ],
      "metadata": {
        "id": "pxmz1ssWI03D"
      },
      "execution_count": null,
      "outputs": []
    }
  ]
}