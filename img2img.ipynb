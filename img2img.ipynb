{
 "cells": [
  {
   "cell_type": "markdown",
   "metadata": {},
   "source": [
    "# 使い方\n",
    "1. ./models/ldm/stable-diffusion-v1/model.ckpt にモデルファイル(sd-v1-4.ckpt)を配置する\n",
    "2. https://github.com/CompVis/stable-diffusion を参考にして Anaconda の ldm 環境を作成する\n",
    "3. ldm 環境で Notebook を実行する"
   ]
  },
  {
   "cell_type": "code",
   "execution_count": null,
   "metadata": {},
   "outputs": [],
   "source": [
    "from scripts.img2img_nb import load_model, main"
   ]
  },
  {
   "cell_type": "code",
   "execution_count": null,
   "metadata": {},
   "outputs": [],
   "source": [
    "model = load_model()"
   ]
  },
  {
   "cell_type": "markdown",
   "metadata": {},
   "source": [
    "## 利用方法\n",
    "\n",
    "main メソッドに model と prompt を渡して画像を生成する。\n",
    "\n",
    "main メソッドは Stable Diffusion の txt2img.py のコマンドラインオプションと同名の引数をサポートしている。\n",
    "\n",
    "```\n",
    "model                                  : 手順4 (モデルの読み込み) で設定した変数を指定\n",
    "prompt (str)                           : txt2img のプロンプト\n",
    "init_img (str)                         : 画像ファイルのパス\n",
    "ddim_steps (int, optional)             : default=50\n",
    "fixed_code (boolean, optional)         : default=False\n",
    "plms (boolean, optional)               : default=False\n",
    "ddim_eta (float, optional)             : default=0.0\n",
    "n_iter (int, optional)                 : default=1\n",
    "H (int, optional)                      : default=512,\n",
    "W (int, optional)                      : default=512\n",
    "C (int, optional)                      : default=4\n",
    "f (int, optional)                      : default=8\n",
    "n_samples (int, optional)              : deafult=1\n",
    "n_rows (int, optional)                 : default=0\n",
    "scale (float, optional)                : default=7.5\n",
    "seed (int, optional)                   : default=42\n",
    "precision (str, optional)              : default=\"autocast\"\n",
    "strength (float, optional)             : default=0.75\n",
    "prompt_correction (List[str], optional): default=[]\n",
    "```"
   ]
  },
  {
   "cell_type": "code",
   "execution_count": null,
   "metadata": {},
   "outputs": [],
   "source": [
    "prompt = \"pyramid\"\n",
    "prompt_correction =[\"egypt::-0.2\", \"japan::0.2\"]\n",
    "seed = 42\n",
    "init_img = \"base.png\"\n",
    "\n",
    "images = main(model, prompt, init_img=init_img, seed=seed, plms=False, prompt_correction=prompt_correction)\n",
    "images[0]"
   ]
  }
 ],
 "metadata": {
  "kernelspec": {
   "display_name": "Python 3.8.5 ('ldm')",
   "language": "python",
   "name": "python3"
  },
  "language_info": {
   "codemirror_mode": {
    "name": "ipython",
    "version": 3
   },
   "file_extension": ".py",
   "mimetype": "text/x-python",
   "name": "python",
   "nbconvert_exporter": "python",
   "pygments_lexer": "ipython3",
   "version": "3.8.13"
  },
  "orig_nbformat": 4,
  "vscode": {
   "interpreter": {
    "hash": "9b1f5017147893acf565d1e383c3b688375657195e3a8ca3aea8d088cd976bc0"
   }
  }
 },
 "nbformat": 4,
 "nbformat_minor": 2
}
