{
 "cells": [
  {
   "cell_type": "code",
   "execution_count": null,
   "metadata": {},
   "outputs": [],
   "source": [
    "from scripts.img2img_nb import load_model, main"
   ]
  },
  {
   "cell_type": "code",
   "execution_count": null,
   "metadata": {},
   "outputs": [],
   "source": [
    "model = load_model()"
   ]
  },
  {
   "cell_type": "code",
   "execution_count": null,
   "metadata": {},
   "outputs": [],
   "source": [
    "prompt = \"pyramid\"\n",
    "prompt_correction =[\"egypt::-0.2\", \"japan::0.2\"]\n",
    "seed = 42\n",
    "init_img = \"base.png\"\n",
    "\n",
    "images = main(model, prompt, init_img=init_img, seed=seed, plms=False, prompt_correction=prompt_correction)\n",
    "images[0]"
   ]
  }
 ],
 "metadata": {
  "kernelspec": {
   "display_name": "Python 3.8.5 ('ldm')",
   "language": "python",
   "name": "python3"
  },
  "language_info": {
   "codemirror_mode": {
    "name": "ipython",
    "version": 3
   },
   "file_extension": ".py",
   "mimetype": "text/x-python",
   "name": "python",
   "nbconvert_exporter": "python",
   "pygments_lexer": "ipython3",
   "version": "3.8.13"
  },
  "orig_nbformat": 4,
  "vscode": {
   "interpreter": {
    "hash": "9b1f5017147893acf565d1e383c3b688375657195e3a8ca3aea8d088cd976bc0"
   }
  }
 },
 "nbformat": 4,
 "nbformat_minor": 2
}
